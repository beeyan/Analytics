{
 "metadata": {
  "language_info": {
   "codemirror_mode": {
    "name": "ipython",
    "version": 3
   },
   "file_extension": ".py",
   "mimetype": "text/x-python",
   "name": "python",
   "nbconvert_exporter": "python",
   "pygments_lexer": "ipython3",
   "version": "3.8.5-final"
  },
  "orig_nbformat": 2,
  "kernelspec": {
   "name": "python3",
   "display_name": "Python 3.8.5 64-bit ('base': conda)",
   "metadata": {
    "interpreter": {
     "hash": "9b340adbcf77da820d96ff40e777632dbc2949b92585b6108aeef1103872ee6c"
    }
   }
  }
 },
 "nbformat": 4,
 "nbformat_minor": 2,
 "cells": [
  {
   "cell_type": "code",
   "execution_count": 1,
   "metadata": {
    "tags": [
     "outputPrepend"
    ]
   },
   "outputs": [
    {
     "output_type": "stream",
     "name": "stdout",
     "text": [
      " already satisfied: scikit-learn>=0.18.1 in /Users/beeyan/opt/anaconda3/lib/python3.8/site-packages (from interpret-core[dash,debug,decisiontree,ebm,lime,linear,notebook,plotly,required,sensitivity,shap,skoperules,treeinterpreter]>=0.2.4->interpret) (0.23.2)\n",
      "Requirement already satisfied: scipy>=0.18.1 in /Users/beeyan/opt/anaconda3/lib/python3.8/site-packages (from interpret-core[dash,debug,decisiontree,ebm,lime,linear,notebook,plotly,required,sensitivity,shap,skoperules,treeinterpreter]>=0.2.4->interpret) (1.5.2)\n",
      "Requirement already satisfied: ipykernel>=5.1.0 in /Users/beeyan/opt/anaconda3/lib/python3.8/site-packages (from interpret-core[dash,debug,decisiontree,ebm,lime,linear,notebook,plotly,required,sensitivity,shap,skoperules,treeinterpreter]>=0.2.4->interpret) (5.3.4)\n",
      "Requirement already satisfied: ipython>=7.4.0 in /Users/beeyan/opt/anaconda3/lib/python3.8/site-packages (from interpret-core[dash,debug,decisiontree,ebm,lime,linear,notebook,plotly,required,sensitivity,shap,skoperules,treeinterpreter]>=0.2.4->interpret) (7.19.0)\n",
      "Requirement already satisfied: psutil>=5.6.2 in /Users/beeyan/opt/anaconda3/lib/python3.8/site-packages (from interpret-core[dash,debug,decisiontree,ebm,lime,linear,notebook,plotly,required,sensitivity,shap,skoperules,treeinterpreter]>=0.2.4->interpret) (5.7.2)\n",
      "Requirement already satisfied: requests>=2.19.0 in /Users/beeyan/opt/anaconda3/lib/python3.8/site-packages (from interpret-core[dash,debug,decisiontree,ebm,lime,linear,notebook,plotly,required,sensitivity,shap,skoperules,treeinterpreter]>=0.2.4->interpret) (2.25.1)\n",
      "Collecting dash>=1.0.0\n",
      "  Downloading dash-1.19.0.tar.gz (75 kB)\n",
      "\u001b[K     |████████████████████████████████| 75 kB 4.5 MB/s \n",
      "\u001b[?25hRequirement already satisfied: future in /Users/beeyan/opt/anaconda3/lib/python3.8/site-packages (from dash>=1.0.0->interpret-core[dash,debug,decisiontree,ebm,lime,linear,notebook,plotly,required,sensitivity,shap,skoperules,treeinterpreter]>=0.2.4->interpret) (0.18.2)\n",
      "Collecting dash-core-components==1.15.0\n",
      "  Downloading dash_core_components-1.15.0.tar.gz (3.5 MB)\n",
      "\u001b[K     |████████████████████████████████| 3.5 MB 12.5 MB/s \n",
      "\u001b[?25hCollecting dash-html-components==1.1.2\n",
      "  Downloading dash_html_components-1.1.2.tar.gz (188 kB)\n",
      "\u001b[K     |████████████████████████████████| 188 kB 11.8 MB/s \n",
      "\u001b[?25hCollecting dash_renderer==1.9.0\n",
      "  Downloading dash_renderer-1.9.0.tar.gz (1.0 MB)\n",
      "\u001b[K     |████████████████████████████████| 1.0 MB 12.9 MB/s \n",
      "\u001b[?25hCollecting dash-table>=4.1.0\n",
      "  Downloading dash_table-4.11.2.tar.gz (1.8 MB)\n",
      "\u001b[K     |████████████████████████████████| 1.8 MB 11.7 MB/s \n",
      "\u001b[?25hCollecting dash-cytoscape>=0.1.1\n",
      "  Using cached dash_cytoscape-0.2.0-py3-none-any.whl\n",
      "Collecting dill>=0.2.5\n",
      "  Downloading dill-0.3.3-py2.py3-none-any.whl (81 kB)\n",
      "\u001b[K     |████████████████████████████████| 81 kB 5.2 MB/s \n",
      "\u001b[?25hCollecting Flask>=1.0.4\n",
      "  Using cached Flask-1.1.2-py2.py3-none-any.whl (94 kB)\n",
      "Requirement already satisfied: Jinja2>=2.10.1 in /Users/beeyan/opt/anaconda3/lib/python3.8/site-packages (from Flask>=1.0.4->dash>=1.0.0->interpret-core[dash,debug,decisiontree,ebm,lime,linear,notebook,plotly,required,sensitivity,shap,skoperules,treeinterpreter]>=0.2.4->interpret) (2.11.2)\n",
      "Requirement already satisfied: click>=5.1 in /Users/beeyan/opt/anaconda3/lib/python3.8/site-packages (from Flask>=1.0.4->dash>=1.0.0->interpret-core[dash,debug,decisiontree,ebm,lime,linear,notebook,plotly,required,sensitivity,shap,skoperules,treeinterpreter]>=0.2.4->interpret) (7.1.2)\n",
      "Collecting gevent>=1.3.6\n",
      "  Downloading gevent-21.1.2-cp38-cp38-macosx_10_14_x86_64.whl (1.8 MB)\n",
      "\u001b[K     |████████████████████████████████| 1.8 MB 7.0 MB/s \n",
      "\u001b[?25hRequirement already satisfied: setuptools in /Users/beeyan/opt/anaconda3/lib/python3.8/site-packages (from gevent>=1.3.6->interpret-core[dash,debug,decisiontree,ebm,lime,linear,notebook,plotly,required,sensitivity,shap,skoperules,treeinterpreter]>=0.2.4->interpret) (51.0.0.post20201207)\n",
      "Collecting greenlet<2.0,>=0.4.17\n",
      "  Downloading greenlet-1.0.0-cp38-cp38-macosx_10_14_x86_64.whl (86 kB)\n",
      "\u001b[K     |████████████████████████████████| 86 kB 6.2 MB/s \n",
      "\u001b[?25hRequirement already satisfied: jupyter-client in /Users/beeyan/opt/anaconda3/lib/python3.8/site-packages (from ipykernel>=5.1.0->interpret-core[dash,debug,decisiontree,ebm,lime,linear,notebook,plotly,required,sensitivity,shap,skoperules,treeinterpreter]>=0.2.4->interpret) (6.1.7)\n",
      "Requirement already satisfied: traitlets>=4.1.0 in /Users/beeyan/opt/anaconda3/lib/python3.8/site-packages (from ipykernel>=5.1.0->interpret-core[dash,debug,decisiontree,ebm,lime,linear,notebook,plotly,required,sensitivity,shap,skoperules,treeinterpreter]>=0.2.4->interpret) (5.0.5)\n",
      "Requirement already satisfied: tornado>=4.2 in /Users/beeyan/opt/anaconda3/lib/python3.8/site-packages (from ipykernel>=5.1.0->interpret-core[dash,debug,decisiontree,ebm,lime,linear,notebook,plotly,required,sensitivity,shap,skoperules,treeinterpreter]>=0.2.4->interpret) (6.1)\n",
      "Requirement already satisfied: appnope in /Users/beeyan/opt/anaconda3/lib/python3.8/site-packages (from ipykernel>=5.1.0->interpret-core[dash,debug,decisiontree,ebm,lime,linear,notebook,plotly,required,sensitivity,shap,skoperules,treeinterpreter]>=0.2.4->interpret) (0.1.2)\n",
      "Requirement already satisfied: pygments in /Users/beeyan/opt/anaconda3/lib/python3.8/site-packages (from ipython>=7.4.0->interpret-core[dash,debug,decisiontree,ebm,lime,linear,notebook,plotly,required,sensitivity,shap,skoperules,treeinterpreter]>=0.2.4->interpret) (2.7.3)\n",
      "Requirement already satisfied: prompt-toolkit!=3.0.0,!=3.0.1,<3.1.0,>=2.0.0 in /Users/beeyan/opt/anaconda3/lib/python3.8/site-packages (from ipython>=7.4.0->interpret-core[dash,debug,decisiontree,ebm,lime,linear,notebook,plotly,required,sensitivity,shap,skoperules,treeinterpreter]>=0.2.4->interpret) (3.0.8)\n",
      "Requirement already satisfied: jedi>=0.10 in /Users/beeyan/opt/anaconda3/lib/python3.8/site-packages (from ipython>=7.4.0->interpret-core[dash,debug,decisiontree,ebm,lime,linear,notebook,plotly,required,sensitivity,shap,skoperules,treeinterpreter]>=0.2.4->interpret) (0.17.0)\n",
      "Requirement already satisfied: pickleshare in /Users/beeyan/opt/anaconda3/lib/python3.8/site-packages (from ipython>=7.4.0->interpret-core[dash,debug,decisiontree,ebm,lime,linear,notebook,plotly,required,sensitivity,shap,skoperules,treeinterpreter]>=0.2.4->interpret) (0.7.5)\n",
      "Requirement already satisfied: backcall in /Users/beeyan/opt/anaconda3/lib/python3.8/site-packages (from ipython>=7.4.0->interpret-core[dash,debug,decisiontree,ebm,lime,linear,notebook,plotly,required,sensitivity,shap,skoperules,treeinterpreter]>=0.2.4->interpret) (0.2.0)\n",
      "Requirement already satisfied: pexpect>4.3 in /Users/beeyan/opt/anaconda3/lib/python3.8/site-packages (from ipython>=7.4.0->interpret-core[dash,debug,decisiontree,ebm,lime,linear,notebook,plotly,required,sensitivity,shap,skoperules,treeinterpreter]>=0.2.4->interpret) (4.8.0)\n",
      "Requirement already satisfied: decorator in /Users/beeyan/opt/anaconda3/lib/python3.8/site-packages (from ipython>=7.4.0->interpret-core[dash,debug,decisiontree,ebm,lime,linear,notebook,plotly,required,sensitivity,shap,skoperules,treeinterpreter]>=0.2.4->interpret) (4.4.2)\n",
      "Collecting itsdangerous>=0.24\n",
      "  Using cached itsdangerous-1.1.0-py2.py3-none-any.whl (16 kB)\n",
      "Requirement already satisfied: parso>=0.7.0 in /Users/beeyan/opt/anaconda3/lib/python3.8/site-packages (from jedi>=0.10->ipython>=7.4.0->interpret-core[dash,debug,decisiontree,ebm,lime,linear,notebook,plotly,required,sensitivity,shap,skoperules,treeinterpreter]>=0.2.4->interpret) (0.8.1)\n",
      "Requirement already satisfied: MarkupSafe>=0.23 in /Users/beeyan/opt/anaconda3/lib/python3.8/site-packages (from Jinja2>=2.10.1->Flask>=1.0.4->dash>=1.0.0->interpret-core[dash,debug,decisiontree,ebm,lime,linear,notebook,plotly,required,sensitivity,shap,skoperules,treeinterpreter]>=0.2.4->interpret) (1.1.1)\n",
      "Collecting lime>=0.1.1.33\n",
      "  Using cached lime-0.2.0.1-py3-none-any.whl\n",
      "Requirement already satisfied: matplotlib in /Users/beeyan/opt/anaconda3/lib/python3.8/site-packages (from lime>=0.1.1.33->interpret-core[dash,debug,decisiontree,ebm,lime,linear,notebook,plotly,required,sensitivity,shap,skoperules,treeinterpreter]>=0.2.4->interpret) (3.3.3)\n",
      "Requirement already satisfied: tqdm in /Users/beeyan/opt/anaconda3/lib/python3.8/site-packages (from lime>=0.1.1.33->interpret-core[dash,debug,decisiontree,ebm,lime,linear,notebook,plotly,required,sensitivity,shap,skoperules,treeinterpreter]>=0.2.4->interpret) (4.54.1)\n",
      "Requirement already satisfied: python-dateutil>=2.7.3 in /Users/beeyan/opt/anaconda3/lib/python3.8/site-packages (from pandas>=0.19.2->interpret-core[dash,debug,decisiontree,ebm,lime,linear,notebook,plotly,required,sensitivity,shap,skoperules,treeinterpreter]>=0.2.4->interpret) (2.8.1)\n",
      "Requirement already satisfied: pytz>=2017.2 in /Users/beeyan/opt/anaconda3/lib/python3.8/site-packages (from pandas>=0.19.2->interpret-core[dash,debug,decisiontree,ebm,lime,linear,notebook,plotly,required,sensitivity,shap,skoperules,treeinterpreter]>=0.2.4->interpret) (2020.4)\n",
      "Requirement already satisfied: ptyprocess>=0.5 in /Users/beeyan/opt/anaconda3/lib/python3.8/site-packages (from pexpect>4.3->ipython>=7.4.0->interpret-core[dash,debug,decisiontree,ebm,lime,linear,notebook,plotly,required,sensitivity,shap,skoperules,treeinterpreter]>=0.2.4->interpret) (0.6.0)\n",
      "Collecting plotly>=3.8.1\n",
      "  Downloading plotly-4.14.3-py2.py3-none-any.whl (13.2 MB)\n",
      "\u001b[K     |████████████████████████████████| 13.2 MB 12.1 MB/s \n",
      "\u001b[?25hRequirement already satisfied: six in /Users/beeyan/opt/anaconda3/lib/python3.8/site-packages (from plotly>=3.8.1->interpret-core[dash,debug,decisiontree,ebm,lime,linear,notebook,plotly,required,sensitivity,shap,skoperules,treeinterpreter]>=0.2.4->interpret) (1.15.0)\n",
      "Requirement already satisfied: wcwidth in /Users/beeyan/opt/anaconda3/lib/python3.8/site-packages (from prompt-toolkit!=3.0.0,!=3.0.1,<3.1.0,>=2.0.0->ipython>=7.4.0->interpret-core[dash,debug,decisiontree,ebm,lime,linear,notebook,plotly,required,sensitivity,shap,skoperules,treeinterpreter]>=0.2.4->interpret) (0.2.5)\n",
      "Requirement already satisfied: idna<3,>=2.5 in /Users/beeyan/opt/anaconda3/lib/python3.8/site-packages (from requests>=2.19.0->interpret-core[dash,debug,decisiontree,ebm,lime,linear,notebook,plotly,required,sensitivity,shap,skoperules,treeinterpreter]>=0.2.4->interpret) (2.10)\n",
      "Requirement already satisfied: certifi>=2017.4.17 in /Users/beeyan/opt/anaconda3/lib/python3.8/site-packages (from requests>=2.19.0->interpret-core[dash,debug,decisiontree,ebm,lime,linear,notebook,plotly,required,sensitivity,shap,skoperules,treeinterpreter]>=0.2.4->interpret) (2020.12.5)\n",
      "Requirement already satisfied: urllib3<1.27,>=1.21.1 in /Users/beeyan/opt/anaconda3/lib/python3.8/site-packages (from requests>=2.19.0->interpret-core[dash,debug,decisiontree,ebm,lime,linear,notebook,plotly,required,sensitivity,shap,skoperules,treeinterpreter]>=0.2.4->interpret) (1.26.2)\n",
      "Requirement already satisfied: chardet<5,>=3.0.2 in /Users/beeyan/opt/anaconda3/lib/python3.8/site-packages (from requests>=2.19.0->interpret-core[dash,debug,decisiontree,ebm,lime,linear,notebook,plotly,required,sensitivity,shap,skoperules,treeinterpreter]>=0.2.4->interpret) (4.0.0)\n",
      "Collecting retrying>=1.3.3\n",
      "  Using cached retrying-1.3.3.tar.gz (10 kB)\n",
      "Collecting SALib>=1.3.3\n",
      "  Downloading SALib-1.3.12.tar.gz (855 kB)\n",
      "\u001b[K     |████████████████████████████████| 855 kB 14.0 MB/s \n",
      "\u001b[?25hCollecting scikit-image>=0.12\n",
      "  Downloading scikit_image-0.18.1-cp38-cp38-macosx_10_9_x86_64.whl (12.7 MB)\n",
      "\u001b[K     |████████████████████████████████| 12.7 MB 9.7 MB/s \n",
      "\u001b[?25hRequirement already satisfied: pillow!=7.1.0,!=7.1.1,>=4.3.0 in /Users/beeyan/opt/anaconda3/lib/python3.8/site-packages (from scikit-image>=0.12->lime>=0.1.1.33->interpret-core[dash,debug,decisiontree,ebm,lime,linear,notebook,plotly,required,sensitivity,shap,skoperules,treeinterpreter]>=0.2.4->interpret) (8.0.1)\n",
      "Requirement already satisfied: networkx>=2.0 in /Users/beeyan/opt/anaconda3/lib/python3.8/site-packages (from scikit-image>=0.12->lime>=0.1.1.33->interpret-core[dash,debug,decisiontree,ebm,lime,linear,notebook,plotly,required,sensitivity,shap,skoperules,treeinterpreter]>=0.2.4->interpret) (2.5)\n",
      "Collecting imageio>=2.3.0\n",
      "  Using cached imageio-2.9.0-py3-none-any.whl (3.3 MB)\n",
      "Requirement already satisfied: kiwisolver>=1.0.1 in /Users/beeyan/opt/anaconda3/lib/python3.8/site-packages (from matplotlib->lime>=0.1.1.33->interpret-core[dash,debug,decisiontree,ebm,lime,linear,notebook,plotly,required,sensitivity,shap,skoperules,treeinterpreter]>=0.2.4->interpret) (1.3.1)\n",
      "Requirement already satisfied: cycler>=0.10 in /Users/beeyan/opt/anaconda3/lib/python3.8/site-packages (from matplotlib->lime>=0.1.1.33->interpret-core[dash,debug,decisiontree,ebm,lime,linear,notebook,plotly,required,sensitivity,shap,skoperules,treeinterpreter]>=0.2.4->interpret) (0.10.0)\n",
      "Requirement already satisfied: pyparsing!=2.0.4,!=2.1.2,!=2.1.6,>=2.0.3 in /Users/beeyan/opt/anaconda3/lib/python3.8/site-packages (from matplotlib->lime>=0.1.1.33->interpret-core[dash,debug,decisiontree,ebm,lime,linear,notebook,plotly,required,sensitivity,shap,skoperules,treeinterpreter]>=0.2.4->interpret) (2.4.7)\n",
      "Collecting PyWavelets>=1.1.1\n",
      "  Using cached PyWavelets-1.1.1-cp38-cp38-macosx_10_9_x86_64.whl (4.3 MB)\n",
      "Requirement already satisfied: threadpoolctl>=2.0.0 in /Users/beeyan/opt/anaconda3/lib/python3.8/site-packages (from scikit-learn>=0.18.1->interpret-core[dash,debug,decisiontree,ebm,lime,linear,notebook,plotly,required,sensitivity,shap,skoperules,treeinterpreter]>=0.2.4->interpret) (2.1.0)\n",
      "Collecting shap>=0.28.5\n",
      "  Downloading shap-0.38.1.tar.gz (352 kB)\n",
      "\u001b[K     |████████████████████████████████| 352 kB 11.4 MB/s \n",
      "\u001b[?25hCollecting slicer==0.0.7\n",
      "  Downloading slicer-0.0.7-py3-none-any.whl (14 kB)\n",
      "Collecting skope-rules>=1.0.1\n",
      "  Downloading skope_rules-1.0.1-py3-none-any.whl (14 kB)\n",
      "Collecting tifffile>=2019.7.26\n",
      "  Downloading tifffile-2021.1.14-py3-none-any.whl (158 kB)\n",
      "\u001b[K     |████████████████████████████████| 158 kB 11.9 MB/s \n",
      "\u001b[?25hRequirement already satisfied: ipython-genutils in /Users/beeyan/opt/anaconda3/lib/python3.8/site-packages (from traitlets>=4.1.0->ipykernel>=5.1.0->interpret-core[dash,debug,decisiontree,ebm,lime,linear,notebook,plotly,required,sensitivity,shap,skoperules,treeinterpreter]>=0.2.4->interpret) (0.2.0)\n",
      "Collecting treeinterpreter>=0.2.2\n",
      "  Downloading treeinterpreter-0.2.3-py2.py3-none-any.whl (6.0 kB)\n",
      "Collecting Werkzeug>=0.15\n",
      "  Using cached Werkzeug-1.0.1-py2.py3-none-any.whl (298 kB)\n",
      "Collecting cloudpickle\n",
      "  Using cached cloudpickle-1.6.0-py3-none-any.whl (23 kB)\n",
      "Collecting flask-compress\n",
      "  Downloading Flask_Compress-1.8.0-py3-none-any.whl (7.2 kB)\n",
      "Collecting brotli\n",
      "  Using cached Brotli-1.0.9-cp38-cp38-macosx_10_9_x86_64.whl (421 kB)\n",
      "Requirement already satisfied: jupyter-core>=4.6.0 in /Users/beeyan/opt/anaconda3/lib/python3.8/site-packages (from jupyter-client->ipykernel>=5.1.0->interpret-core[dash,debug,decisiontree,ebm,lime,linear,notebook,plotly,required,sensitivity,shap,skoperules,treeinterpreter]>=0.2.4->interpret) (4.7.0)\n",
      "Requirement already satisfied: pyzmq>=13 in /Users/beeyan/opt/anaconda3/lib/python3.8/site-packages (from jupyter-client->ipykernel>=5.1.0->interpret-core[dash,debug,decisiontree,ebm,lime,linear,notebook,plotly,required,sensitivity,shap,skoperules,treeinterpreter]>=0.2.4->interpret) (20.0.0)\n",
      "Collecting numba\n",
      "  Downloading numba-0.52.0-cp38-cp38-macosx_10_14_x86_64.whl (2.2 MB)\n",
      "\u001b[K     |████████████████████████████████| 2.2 MB 11.9 MB/s \n",
      "\u001b[?25hCollecting llvmlite<0.36,>=0.35.0\n",
      "  Downloading llvmlite-0.35.0-cp38-cp38-macosx_10_9_x86_64.whl (18.5 MB)\n",
      "\u001b[K     |████████████████████████████████| 18.5 MB 13.3 MB/s \n",
      "\u001b[?25hCollecting zope.event\n",
      "  Using cached zope.event-4.5.0-py2.py3-none-any.whl (6.8 kB)\n",
      "Collecting zope.interface\n",
      "  Downloading zope.interface-5.2.0-cp38-cp38-macosx_10_9_x86_64.whl (194 kB)\n",
      "\u001b[K     |████████████████████████████████| 194 kB 12.6 MB/s \n",
      "\u001b[?25hBuilding wheels for collected packages: dash, dash-core-components, dash-html-components, dash-renderer, dash-table, retrying, SALib, shap\n",
      "  Building wheel for dash (setup.py) ... \u001b[?25ldone\n",
      "\u001b[?25h  Created wheel for dash: filename=dash-1.19.0-py3-none-any.whl size=84011 sha256=f9f1f99d6f3c01055ff08297ff9ea7bb676b5ec2e0390519813f39bcdb255f95\n",
      "  Stored in directory: /Users/beeyan/Library/Caches/pip/wheels/e7/27/2f/a9f9bf858843b5365bcb311a80f0b2379737caf4ec50b2ae3a\n",
      "  Building wheel for dash-core-components (setup.py) ... \u001b[?25ldone\n",
      "\u001b[?25h  Created wheel for dash-core-components: filename=dash_core_components-1.15.0-py3-none-any.whl size=3527011 sha256=314743a9467f13855574f361952a0583866bf73e758e533b4b40ebbdae9f25a8\n",
      "  Stored in directory: /Users/beeyan/Library/Caches/pip/wheels/e3/e6/0e/759ca580c568aad2436521fa6df67f53a141dc1ab8f040c4c7\n",
      "  Building wheel for dash-html-components (setup.py) ... \u001b[?25ldone\n",
      "\u001b[?25h  Created wheel for dash-html-components: filename=dash_html_components-1.1.2-py3-none-any.whl size=427831 sha256=3ed63bb653c239b06a79dd1a975199ce20ca63c4050a6fb8a6f136f532fe2040\n",
      "  Stored in directory: /Users/beeyan/Library/Caches/pip/wheels/8a/bc/a8/7ad1d354777cfe77413fd7a092e07d7cc82f88f98997f4c463\n",
      "  Building wheel for dash-renderer (setup.py) ... \u001b[?25ldone\n",
      "\u001b[?25h  Created wheel for dash-renderer: filename=dash_renderer-1.9.0-py3-none-any.whl size=1014872 sha256=4f680eeb0748554e0103365d47bc568255e48056a5248f36ecab8f3c14c1a9f3\n",
      "  Stored in directory: /Users/beeyan/Library/Caches/pip/wheels/08/94/09/e11ba8ae5d97e1c8ff5be0ac1f7cf42642eec6ea94ed1e4b44\n",
      "  Building wheel for dash-table (setup.py) ... \u001b[?25ldone\n",
      "\u001b[?25h  Created wheel for dash-table: filename=dash_table-4.11.2-py3-none-any.whl size=1839869 sha256=c060e1fb3d56b8c791aa20e56b2cbcad498ff9d4a29631dadf3278dd63ddd61d\n",
      "  Stored in directory: /Users/beeyan/Library/Caches/pip/wheels/cc/1d/a0/720dcf854e410eddbe44f8434f4d3a6332fdd085178eeac4f9\n",
      "  Building wheel for retrying (setup.py) ... \u001b[?25ldone\n",
      "\u001b[?25h  Created wheel for retrying: filename=retrying-1.3.3-py3-none-any.whl size=11429 sha256=ca04aad064b23bafef6dc8472433222ee959935675d270dd9f79d34a46d665e7\n",
      "  Stored in directory: /Users/beeyan/Library/Caches/pip/wheels/c4/a7/48/0a434133f6d56e878ca511c0e6c38326907c0792f67b476e56\n",
      "  Building wheel for SALib (setup.py) ... \u001b[?25ldone\n",
      "\u001b[?25h  Created wheel for SALib: filename=SALib-1.3.12-py2.py3-none-any.whl size=729049 sha256=9e949c1b4ba86aa9e1d0af487733466979201aa9f91cdd9b03d6672399153150\n",
      "  Stored in directory: /Users/beeyan/Library/Caches/pip/wheels/b4/09/e4/f48a332b3e48dc39ee8fa92fdd0d92855c3e78fe391cdbde8b\n",
      "  Building wheel for shap (setup.py) ... \u001b[?25ldone\n",
      "\u001b[?25h  Created wheel for shap: filename=shap-0.38.1-cp38-cp38-macosx_10_9_x86_64.whl size=415005 sha256=1ce8f361fb8520f9e987dc2432e3b097085157eaf90bd88eb9ff3ace0f2afb4c\n",
      "  Stored in directory: /Users/beeyan/Library/Caches/pip/wheels/87/7c/3f/1012132e5a8db6b4e125e64be0fd96f581803e101b0403c65f\n",
      "Successfully built dash dash-core-components dash-html-components dash-renderer dash-table retrying SALib shap\n",
      "Installing collected packages: Werkzeug, itsdangerous, retrying, Flask, brotli, tifffile, PyWavelets, plotly, llvmlite, imageio, flask-compress, dash-table, dash-renderer, dash-html-components, dash-core-components, zope.interface, zope.event, slicer, scikit-image, numba, greenlet, dash, cloudpickle, treeinterpreter, skope-rules, shap, SALib, lime, interpret-core, gevent, dill, dash-cytoscape, interpret\n",
      "Successfully installed Flask-1.1.2 PyWavelets-1.1.1 SALib-1.3.12 Werkzeug-1.0.1 brotli-1.0.9 cloudpickle-1.6.0 dash-1.19.0 dash-core-components-1.15.0 dash-cytoscape-0.2.0 dash-html-components-1.1.2 dash-renderer-1.9.0 dash-table-4.11.2 dill-0.3.3 flask-compress-1.8.0 gevent-21.1.2 greenlet-1.0.0 imageio-2.9.0 interpret-0.2.4 interpret-core-0.2.4 itsdangerous-1.1.0 lime-0.2.0.1 llvmlite-0.35.0 numba-0.52.0 plotly-4.14.3 retrying-1.3.3 scikit-image-0.18.1 shap-0.38.1 skope-rules-1.0.1 slicer-0.0.7 tifffile-2021.1.14 treeinterpreter-0.2.3 zope.event-4.5.0 zope.interface-5.2.0\n"
     ]
    }
   ],
   "source": [
    "!pip install interpret"
   ]
  },
  {
   "cell_type": "code",
   "execution_count": 2,
   "metadata": {},
   "outputs": [],
   "source": [
    "import pandas as pd\n",
    "from sklearn.model_selection import train_test_split\n",
    "\n",
    "df = pd.read_csv(\n",
    "    \"https://archive.ics.uci.edu/ml/machine-learning-databases/adult/adult.data\",\n",
    "    header=None)\n",
    "df.columns = [\n",
    "    \"Age\", \"WorkClass\", \"fnlwgt\", \"Education\", \"EducationNum\",\n",
    "    \"MaritalStatus\", \"Occupation\", \"Relationship\", \"Race\", \"Gender\",\n",
    "    \"CapitalGain\", \"CapitalLoss\", \"HoursPerWeek\", \"NativeCountry\", \"Income\"\n",
    "]\n",
    "# df = df.sample(frac=0.1, random_state=1)\n",
    "train_cols = df.columns[0:-1]\n",
    "label = df.columns[-1]\n",
    "X = df[train_cols]\n",
    "y = df[label].apply(lambda x: 0 if x == \" <=50K\" else 1) #Turning response into 0 and 1\n",
    "\n",
    "seed = 1\n",
    "X_train, X_test, y_train, y_test = train_test_split(X, y, test_size=0.20, random_state=seed)"
   ]
  },
  {
   "cell_type": "code",
   "execution_count": 3,
   "metadata": {},
   "outputs": [
    {
     "output_type": "display_data",
     "data": {
      "text/html": "<!-- http://127.0.0.1:7001/140656000709680/ -->\n<iframe src=\"http://127.0.0.1:7001/140656000709680/\" width=100% height=800 frameBorder=\"0\"></iframe>"
     },
     "metadata": {}
    }
   ],
   "source": [
    "from interpret import show\n",
    "from interpret.data import ClassHistogram\n",
    "\n",
    "# Histgram objectを作成して, showに渡すことで, 描画ができる\n",
    "hist = ClassHistogram().explain_data(X_train, y_train, name='Train Data')\n",
    "show(hist)"
   ]
  },
  {
   "cell_type": "code",
   "execution_count": 4,
   "metadata": {},
   "outputs": [
    {
     "output_type": "display_data",
     "data": {
      "text/html": "<!-- http://127.0.0.1:7001/140656068456944/ -->\n<iframe src=\"http://127.0.0.1:7001/140656068456944/\" width=100% height=800 frameBorder=\"0\"></iframe>"
     },
     "metadata": {}
    }
   ],
   "source": [
    "from interpret.glassbox import ExplainableBoostingClassifier, LogisticRegression, ClassificationTree, DecisionListClassifier\n",
    "\n",
    "# EBMインスタンスを作成して, explain_global instanceを作成してshow関数に渡す\n",
    "ebm = ExplainableBoostingClassifier(random_state=seed, n_jobs=-1)\n",
    "ebm.fit(X_train, y_train)\n",
    "\n",
    "# Global Explanations: \n",
    "ebm_global = ebm.explain_global(name='EBM')\n",
    "show(ebm_global)"
   ]
  },
  {
   "cell_type": "code",
   "execution_count": 5,
   "metadata": {},
   "outputs": [
    {
     "output_type": "display_data",
     "data": {
      "text/html": "<!-- http://127.0.0.1:7001/140656051637408/ -->\n<iframe src=\"http://127.0.0.1:7001/140656051637408/\" width=100% height=800 frameBorder=\"0\"></iframe>"
     },
     "metadata": {}
    }
   ],
   "source": [
    "ebm_local = ebm.explain_local(X_test[:5], y_test[:5], name='EBM')\n",
    "show(ebm_local)"
   ]
  },
  {
   "cell_type": "code",
   "execution_count": 6,
   "metadata": {},
   "outputs": [
    {
     "output_type": "display_data",
     "data": {
      "text/html": "<!-- http://127.0.0.1:7001/140656051420128/ -->\n<iframe src=\"http://127.0.0.1:7001/140656051420128/\" width=100% height=800 frameBorder=\"0\"></iframe>"
     },
     "metadata": {}
    }
   ],
   "source": [
    "from interpret.perf import ROC\n",
    "\n",
    "ebm_perf = ROC(ebm.predict_proba).explain_perf(X_test, y_test, name='EBM')\n",
    "show(ebm_perf)"
   ]
  },
  {
   "cell_type": "code",
   "execution_count": 7,
   "metadata": {},
   "outputs": [
    {
     "output_type": "execute_result",
     "data": {
      "text/plain": [
       "<interpret.glassbox.decisiontree.ClassificationTree at 0x7fed09fef160>"
      ]
     },
     "metadata": {},
     "execution_count": 7
    }
   ],
   "source": [
    "from interpret.glassbox import LogisticRegression, ClassificationTree\n",
    "\n",
    "# We have to transform categorical variables to use Logistic Regression and Decision Tree\n",
    "X_enc = pd.get_dummies(X, prefix_sep='.')\n",
    "feature_names = list(X_enc.columns)\n",
    "X_train_enc, X_test_enc, y_train, y_test = train_test_split(X_enc, y, test_size=0.20, random_state=seed)\n",
    "\n",
    "lr = LogisticRegression(random_state=seed, feature_names=feature_names, penalty='l1', solver='liblinear')\n",
    "lr.fit(X_train_enc, y_train)\n",
    "\n",
    "tree = ClassificationTree()\n",
    "tree.fit(X_train_enc, y_train)"
   ]
  },
  {
   "cell_type": "code",
   "execution_count": 8,
   "metadata": {},
   "outputs": [
    {
     "output_type": "display_data",
     "data": {
      "text/html": "<!-- http://127.0.0.1:7001/140656051627344/ -->\n<iframe src=\"http://127.0.0.1:7001/140656051627344/\" width=100% height=800 frameBorder=\"0\"></iframe>"
     },
     "metadata": {}
    },
    {
     "output_type": "display_data",
     "data": {
      "text/html": "<!-- http://127.0.0.1:7001/140656069531920/ -->\n<iframe src=\"http://127.0.0.1:7001/140656069531920/\" width=100% height=800 frameBorder=\"0\"></iframe>"
     },
     "metadata": {}
    },
    {
     "output_type": "display_data",
     "data": {
      "text/html": "<!-- http://127.0.0.1:7001/140656051420128/ -->\n<iframe src=\"http://127.0.0.1:7001/140656051420128/\" width=100% height=800 frameBorder=\"0\"></iframe>"
     },
     "metadata": {}
    }
   ],
   "source": [
    "lr_perf = ROC(lr.predict_proba).explain_perf(X_test_enc, y_test, name='Logistic Regression')\n",
    "tree_perf = ROC(tree.predict_proba).explain_perf(X_test_enc, y_test, name='Classification Tree')\n",
    "\n",
    "show(lr_perf)\n",
    "show(tree_perf)\n",
    "show(ebm_perf)"
   ]
  },
  {
   "cell_type": "code",
   "execution_count": 9,
   "metadata": {},
   "outputs": [
    {
     "output_type": "display_data",
     "data": {
      "text/html": "<!-- http://127.0.0.1:7001/140656051705312/ -->\n<iframe src=\"http://127.0.0.1:7001/140656051705312/\" width=100% height=800 frameBorder=\"0\"></iframe>"
     },
     "metadata": {}
    },
    {
     "output_type": "display_data",
     "data": {
      "text/html": "<!-- http://127.0.0.1:7001/140656089816368/ -->\n<iframe src=\"http://127.0.0.1:7001/140656089816368/\" width=100% height=800 frameBorder=\"0\"></iframe>"
     },
     "metadata": {}
    },
    {
     "output_type": "display_data",
     "data": {
      "text/html": "<!-- http://127.0.0.1:7001/140656068456944/ -->\n<iframe src=\"http://127.0.0.1:7001/140656068456944/\" width=100% height=800 frameBorder=\"0\"></iframe>"
     },
     "metadata": {}
    }
   ],
   "source": [
    "lr_global = lr.explain_global(name='Logistic Regression')\n",
    "tree_global = tree.explain_global(name='Classification Tree')\n",
    "\n",
    "show(lr_global)\n",
    "show(tree_global)\n",
    "show(ebm_global)"
   ]
  },
  {
   "cell_type": "code",
   "execution_count": 10,
   "metadata": {},
   "outputs": [
    {
     "output_type": "display_data",
     "data": {
      "text/html": "<!-- http://127.0.0.1:7001/140656083864896/ -->\n<a href=\"http://127.0.0.1:7001/140656083864896/\" target=\"_new\">Open in new window</a><iframe src=\"http://127.0.0.1:7001/140656083864896/\" width=100% height=800 frameBorder=\"0\"></iframe>"
     },
     "metadata": {}
    }
   ],
   "source": [
    "show([hist, lr_global, lr_perf, tree_global, tree_perf, ebm_global, ebm_perf], share_tables=True)"
   ]
  },
  {
   "cell_type": "code",
   "execution_count": null,
   "metadata": {},
   "outputs": [],
   "source": []
  }
 ]
}