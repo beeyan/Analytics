{
 "cells": [
  {
   "cell_type": "code",
   "execution_count": 4,
   "metadata": {},
   "outputs": [
    {
     "name": "stderr",
     "output_type": "stream",
     "text": [
      "\u001b[32m\u001b[1m  Resolving\u001b[22m\u001b[39m package versions...\n",
      "\u001b[32m\u001b[1mNo Changes\u001b[22m\u001b[39m to `~/.julia/environments/v1.5/Project.toml`\n",
      "\u001b[32m\u001b[1mNo Changes\u001b[22m\u001b[39m to `~/.julia/environments/v1.5/Manifest.toml`\n",
      "\u001b[32m\u001b[1m  Resolving\u001b[22m\u001b[39m package versions...\n",
      "\u001b[32m\u001b[1mUpdating\u001b[22m\u001b[39m `~/.julia/environments/v1.5/Project.toml`\n",
      " \u001b[90m [336ed68f] \u001b[39m\u001b[92m+ CSV v0.3.1\u001b[39m\n",
      "\u001b[32m\u001b[1mNo Changes\u001b[22m\u001b[39m to `~/.julia/environments/v1.5/Manifest.toml`\n"
     ]
    }
   ],
   "source": [
    "import Pkg;\n",
    "Pkg.add(\"HTTP\")\n",
    "Pkg.add(\"CSV\")"
   ]
  },
  {
   "cell_type": "code",
   "execution_count": 5,
   "metadata": {
    "colab": {},
    "colab_type": "code",
    "id": "neWCbvAH2Jl-",
    "tags": []
   },
   "outputs": [
    {
     "name": "stderr",
     "output_type": "stream",
     "text": [
      "┌ Info: Precompiling CSV [336ed68f-0bac-5ca0-87d4-7b16caf5d00b]\n",
      "└ @ Base loading.jl:1278\n",
      "ERROR: LoadError: LoadError: UndefVarError: tostr_sizehint not defined\n",
      "Stacktrace:\n",
      " [1] getproperty(::Module, ::Symbol) at ./Base.jl:26\n",
      " [2] top-level scope at /Users/beeyan/.julia/packages/CategoricalArrays/qcwgl/src/deprecated.jl:101\n",
      " [3] include(::Function, ::Module, ::String) at ./Base.jl:380\n",
      " [4] include at ./Base.jl:368 [inlined]\n",
      " [5] include(::String) at /Users/beeyan/.julia/packages/CategoricalArrays/qcwgl/src/CategoricalArrays.jl:1\n",
      " [6] top-level scope at /Users/beeyan/.julia/packages/CategoricalArrays/qcwgl/src/CategoricalArrays.jl:39\n",
      " [7] include(::Function, ::Module, ::String) at ./Base.jl:380\n",
      " [8] include(::Module, ::String) at ./Base.jl:368\n",
      " [9] top-level scope at none:2\n",
      " [10] eval at ./boot.jl:331 [inlined]\n",
      " [11] eval(::Expr) at ./client.jl:467\n",
      " [12] top-level scope at ./none:3\n",
      "in expression starting at /Users/beeyan/.julia/packages/CategoricalArrays/qcwgl/src/deprecated.jl:101\n",
      "in expression starting at /Users/beeyan/.julia/packages/CategoricalArrays/qcwgl/src/CategoricalArrays.jl:39\n",
      "ERROR: LoadError: Failed to precompile CategoricalArrays [324d7699-5711-5eae-9e2f-1d82baa6b597] to /Users/beeyan/.julia/compiled/v1.5/CategoricalArrays/RHXoP_hKmv8.ji.\n",
      "Stacktrace:\n",
      " [1] error(::String) at ./error.jl:33\n",
      " [2] compilecache(::Base.PkgId, ::String) at ./loading.jl:1305\n",
      " [3] _require(::Base.PkgId) at ./loading.jl:1030\n",
      " [4] require(::Base.PkgId) at ./loading.jl:928\n",
      " [5] require(::Module, ::Symbol) at ./loading.jl:923\n",
      " [6] include(::Function, ::Module, ::String) at ./Base.jl:380\n",
      " [7] include(::Module, ::String) at ./Base.jl:368\n",
      " [8] top-level scope at none:2\n",
      " [9] eval at ./boot.jl:331 [inlined]\n",
      " [10] eval(::Expr) at ./client.jl:467\n",
      " [11] top-level scope at ./none:3\n",
      "in expression starting at /Users/beeyan/.julia/packages/CSV/tT4Xy/src/CSV.jl:4\n"
     ]
    },
    {
     "ename": "LoadError",
     "evalue": "Failed to precompile CSV [336ed68f-0bac-5ca0-87d4-7b16caf5d00b] to /Users/beeyan/.julia/compiled/v1.5/CSV/HHBkp_hKmv8.ji.",
     "output_type": "error",
     "traceback": [
      "Failed to precompile CSV [336ed68f-0bac-5ca0-87d4-7b16caf5d00b] to /Users/beeyan/.julia/compiled/v1.5/CSV/HHBkp_hKmv8.ji.",
      "",
      "Stacktrace:",
      " [1] error(::String) at ./error.jl:33",
      " [2] compilecache(::Base.PkgId, ::String) at ./loading.jl:1305",
      " [3] _require(::Base.PkgId) at ./loading.jl:1030",
      " [4] require(::Base.PkgId) at ./loading.jl:928",
      " [5] require(::Module, ::Symbol) at ./loading.jl:923",
      " [6] include_string(::Function, ::Module, ::String, ::String) at ./loading.jl:1091",
      " [7] execute_code(::String, ::String) at /Users/beeyan/.julia/packages/IJulia/rWZ9e/src/execute_request.jl:27",
      " [8] execute_request(::ZMQ.Socket, ::IJulia.Msg) at /Users/beeyan/.julia/packages/IJulia/rWZ9e/src/execute_request.jl:86",
      " [9] #invokelatest#1 at ./essentials.jl:710 [inlined]",
      " [10] invokelatest at ./essentials.jl:709 [inlined]",
      " [11] eventloop(::ZMQ.Socket) at /Users/beeyan/.julia/packages/IJulia/rWZ9e/src/eventloop.jl:8",
      " [12] (::IJulia.var\"#15#18\")() at ./task.jl:356"
     ]
    }
   ],
   "source": [
    "using HTTP\n",
    "using CSV\n",
    "\n",
    "r = HTTP.request(\"GET\", \"https://git.io/vXTVC\");\n",
    "count_data = CSV.read(IOBuffer(r.body), header=[\"messages\"])"
   ]
  },
  {
   "cell_type": "code",
   "execution_count": null,
   "metadata": {},
   "outputs": [],
   "source": [
    "N = length(count_data.messages)\n",
    "bar(0:N-1, count_data.messages, label=\"\", size="
   ]
  }
 ],
 "metadata": {
  "colab": {
   "authorship_tag": "ABX9TyOfew11Pk1a1S/gJlT1R78/",
   "collapsed_sections": [],
   "name": "Untitled",
   "provenance": []
  },
  "kernelspec": {
   "display_name": "Julia 1.5.2",
   "language": "julia",
   "name": "julia-1.5"
  },
  "language_info": {
   "file_extension": ".jl",
   "mimetype": "application/julia",
   "name": "julia",
   "version": "1.5.2"
  }
 },
 "nbformat": 4,
 "nbformat_minor": 4
}
