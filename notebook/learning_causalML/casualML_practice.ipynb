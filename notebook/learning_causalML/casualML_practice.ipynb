{
 "cells": [
  {
   "cell_type": "code",
   "execution_count": 1,
   "metadata": {
    "colab": {
     "base_uri": "https://localhost:8080/",
     "height": 88
    },
    "colab_type": "code",
    "executionInfo": {
     "elapsed": 3342,
     "status": "ok",
     "timestamp": 1590896226156,
     "user": {
      "displayName": "Hiroki Isobe",
      "photoUrl": "",
      "userId": "09977148319759109290"
     },
     "user_tz": -540
    },
    "id": "qTlD0Tvc7BFh",
    "outputId": "9c8ea8e4-0a7c-4c94-d086-8559a65360d2"
   },
   "outputs": [],
   "source": [
    "# import library\n",
    "import numpy as np\n",
    "import pandas as pd\n",
    "\n",
    "from causalml.dataset import make_uplift_classification\n",
    "from causalml.inference.tree import UpliftRandomForestClassifier\n",
    "from causalml.metrics import plot_gain\n",
    "\n",
    "from sklearn.model_selection import train_test_split\n",
    "\n",
    "# generate datasets\n",
    "# 各特徴量とgroup_name、targetが生成される\n",
    "df, x_names = make_uplift_classification()"
   ]
  },
  {
   "cell_type": "code",
   "execution_count": 2,
   "metadata": {
    "colab": {
     "base_uri": "https://localhost:8080/",
     "height": 224
    },
    "colab_type": "code",
    "executionInfo": {
     "elapsed": 963,
     "status": "ok",
     "timestamp": 1590896230339,
     "user": {
      "displayName": "Hiroki Isobe",
      "photoUrl": "",
      "userId": "09977148319759109290"
     },
     "user_tz": -540
    },
    "id": "y2Fc-zEn7d47",
    "outputId": "a34155fb-5e4d-481a-aa62-6dfd4170cc2f"
   },
   "outputs": [
    {
     "output_type": "execute_result",
     "data": {
      "text/plain": "  treatment_group_key  x1_informative  x2_informative  x3_informative  \\\n0             control       -0.542888        1.976361       -0.531359   \n1          treatment3        0.258654        0.552412        1.434239   \n2          treatment1        1.697012       -2.762600       -0.662874   \n3          treatment2       -1.441644        1.823648        0.789423   \n4             control       -0.625074        3.002388       -0.096288   \n\n   x4_informative  x5_informative  x6_irrelevant  x7_irrelevant  \\\n0       -2.354211       -0.380629      -2.614321      -0.128893   \n1       -1.422311        0.089131       0.790293       1.159513   \n2       -1.682340        1.217443       0.837982       1.042981   \n3       -0.295398        0.718509      -0.492993       0.947824   \n4        1.938235        3.392424      -0.465860      -0.919897   \n\n   x8_irrelevant  x9_irrelevant  ...  x12_uplift_increase  x13_increase_mix  \\\n0       0.448689      -2.275192  ...            -1.315304          0.742654   \n1       1.578868       0.166540  ...            -1.391878         -0.623243   \n2       0.177398      -0.112409  ...            -1.132497          1.050179   \n3      -1.307887       0.123340  ...            -2.084619          0.058481   \n4      -1.072592      -1.331181  ...            -1.403984          0.760430   \n\n   x14_uplift_increase  x15_uplift_increase  x16_increase_mix  \\\n0             1.891699            -2.428395          1.541875   \n1             2.443972            -2.889253          2.018585   \n2             1.573054            -1.788427          1.341609   \n3             1.369439             0.422538          1.087176   \n4             1.917635            -2.347675          1.560946   \n\n   x17_uplift_increase  x18_uplift_increase  x19_increase_mix  conversion  \\\n0            -0.817705            -0.610194         -0.591581           0   \n1            -1.109296            -0.380362         -1.667606           0   \n2            -0.749227            -2.091521         -0.471386           0   \n3            -0.966666            -1.785592         -1.268379           1   \n4            -0.833067            -1.407884         -0.781343           0   \n\n   treatment_effect  \n0                 0  \n1                 0  \n2                 0  \n3                 1  \n4                 0  \n\n[5 rows x 22 columns]",
      "text/html": "<div>\n<style scoped>\n    .dataframe tbody tr th:only-of-type {\n        vertical-align: middle;\n    }\n\n    .dataframe tbody tr th {\n        vertical-align: top;\n    }\n\n    .dataframe thead th {\n        text-align: right;\n    }\n</style>\n<table border=\"1\" class=\"dataframe\">\n  <thead>\n    <tr style=\"text-align: right;\">\n      <th></th>\n      <th>treatment_group_key</th>\n      <th>x1_informative</th>\n      <th>x2_informative</th>\n      <th>x3_informative</th>\n      <th>x4_informative</th>\n      <th>x5_informative</th>\n      <th>x6_irrelevant</th>\n      <th>x7_irrelevant</th>\n      <th>x8_irrelevant</th>\n      <th>x9_irrelevant</th>\n      <th>...</th>\n      <th>x12_uplift_increase</th>\n      <th>x13_increase_mix</th>\n      <th>x14_uplift_increase</th>\n      <th>x15_uplift_increase</th>\n      <th>x16_increase_mix</th>\n      <th>x17_uplift_increase</th>\n      <th>x18_uplift_increase</th>\n      <th>x19_increase_mix</th>\n      <th>conversion</th>\n      <th>treatment_effect</th>\n    </tr>\n  </thead>\n  <tbody>\n    <tr>\n      <th>0</th>\n      <td>control</td>\n      <td>-0.542888</td>\n      <td>1.976361</td>\n      <td>-0.531359</td>\n      <td>-2.354211</td>\n      <td>-0.380629</td>\n      <td>-2.614321</td>\n      <td>-0.128893</td>\n      <td>0.448689</td>\n      <td>-2.275192</td>\n      <td>...</td>\n      <td>-1.315304</td>\n      <td>0.742654</td>\n      <td>1.891699</td>\n      <td>-2.428395</td>\n      <td>1.541875</td>\n      <td>-0.817705</td>\n      <td>-0.610194</td>\n      <td>-0.591581</td>\n      <td>0</td>\n      <td>0</td>\n    </tr>\n    <tr>\n      <th>1</th>\n      <td>treatment3</td>\n      <td>0.258654</td>\n      <td>0.552412</td>\n      <td>1.434239</td>\n      <td>-1.422311</td>\n      <td>0.089131</td>\n      <td>0.790293</td>\n      <td>1.159513</td>\n      <td>1.578868</td>\n      <td>0.166540</td>\n      <td>...</td>\n      <td>-1.391878</td>\n      <td>-0.623243</td>\n      <td>2.443972</td>\n      <td>-2.889253</td>\n      <td>2.018585</td>\n      <td>-1.109296</td>\n      <td>-0.380362</td>\n      <td>-1.667606</td>\n      <td>0</td>\n      <td>0</td>\n    </tr>\n    <tr>\n      <th>2</th>\n      <td>treatment1</td>\n      <td>1.697012</td>\n      <td>-2.762600</td>\n      <td>-0.662874</td>\n      <td>-1.682340</td>\n      <td>1.217443</td>\n      <td>0.837982</td>\n      <td>1.042981</td>\n      <td>0.177398</td>\n      <td>-0.112409</td>\n      <td>...</td>\n      <td>-1.132497</td>\n      <td>1.050179</td>\n      <td>1.573054</td>\n      <td>-1.788427</td>\n      <td>1.341609</td>\n      <td>-0.749227</td>\n      <td>-2.091521</td>\n      <td>-0.471386</td>\n      <td>0</td>\n      <td>0</td>\n    </tr>\n    <tr>\n      <th>3</th>\n      <td>treatment2</td>\n      <td>-1.441644</td>\n      <td>1.823648</td>\n      <td>0.789423</td>\n      <td>-0.295398</td>\n      <td>0.718509</td>\n      <td>-0.492993</td>\n      <td>0.947824</td>\n      <td>-1.307887</td>\n      <td>0.123340</td>\n      <td>...</td>\n      <td>-2.084619</td>\n      <td>0.058481</td>\n      <td>1.369439</td>\n      <td>0.422538</td>\n      <td>1.087176</td>\n      <td>-0.966666</td>\n      <td>-1.785592</td>\n      <td>-1.268379</td>\n      <td>1</td>\n      <td>1</td>\n    </tr>\n    <tr>\n      <th>4</th>\n      <td>control</td>\n      <td>-0.625074</td>\n      <td>3.002388</td>\n      <td>-0.096288</td>\n      <td>1.938235</td>\n      <td>3.392424</td>\n      <td>-0.465860</td>\n      <td>-0.919897</td>\n      <td>-1.072592</td>\n      <td>-1.331181</td>\n      <td>...</td>\n      <td>-1.403984</td>\n      <td>0.760430</td>\n      <td>1.917635</td>\n      <td>-2.347675</td>\n      <td>1.560946</td>\n      <td>-0.833067</td>\n      <td>-1.407884</td>\n      <td>-0.781343</td>\n      <td>0</td>\n      <td>0</td>\n    </tr>\n  </tbody>\n</table>\n<p>5 rows × 22 columns</p>\n</div>"
     },
     "metadata": {},
     "execution_count": 2
    }
   ],
   "source": [
    "df.head()"
   ]
  },
  {
   "cell_type": "code",
   "execution_count": 4,
   "metadata": {
    "colab": {
     "base_uri": "https://localhost:8080/",
     "height": 51
    },
    "colab_type": "code",
    "executionInfo": {
     "elapsed": 926,
     "status": "ok",
     "timestamp": 1590896233321,
     "user": {
      "displayName": "Hiroki Isobe",
      "photoUrl": "",
      "userId": "09977148319759109290"
     },
     "user_tz": -540
    },
    "id": "k08vNpch77DK",
    "outputId": "d48d6849-eeb5-4eee-daa5-9f1661ddf5c8"
   },
   "outputs": [
    {
     "output_type": "execute_result",
     "data": {
      "text/plain": "['x1_informative',\n 'x2_informative',\n 'x3_informative',\n 'x4_informative',\n 'x5_informative',\n 'x6_irrelevant',\n 'x7_irrelevant',\n 'x8_irrelevant',\n 'x9_irrelevant',\n 'x10_irrelevant',\n 'x11_uplift_increase',\n 'x12_uplift_increase',\n 'x13_increase_mix',\n 'x14_uplift_increase',\n 'x15_uplift_increase',\n 'x16_increase_mix',\n 'x17_uplift_increase',\n 'x18_uplift_increase',\n 'x19_increase_mix']",
      "text/html": "['x1_informative', 'x2_informative', 'x3_informative', 'x4_informative', 'x5_informative', 'x6_irrelevant', 'x7_irrelevant', 'x8_irrelevant', 'x9_irrelevant', 'x10_irrelevant', 'x11_uplift_increase', 'x12_uplift_increase', 'x13_increase_mix', 'x14_uplift_increase', 'x15_uplift_increase', 'x16_increase_mix', 'x17_uplift_increase', 'x18_uplift_increase', 'x19_increase_mix']"
     },
     "metadata": {},
     "execution_count": 4
    }
   ],
   "source": [
    "x_names"
   ]
  },
  {
   "cell_type": "code",
   "execution_count": 5,
   "metadata": {
    "colab": {
     "base_uri": "https://localhost:8080/",
     "height": 419
    },
    "colab_type": "code",
    "executionInfo": {
     "elapsed": 5669,
     "status": "ok",
     "timestamp": 1589707341960,
     "user": {
      "displayName": "Hiroki Isobe",
      "photoUrl": "",
      "userId": "09977148319759109290"
     },
     "user_tz": -540
    },
    "id": "yNkpCff87NlS",
    "outputId": "b94eee8b-9fcd-4a92-cd74-b7d44e7987ea"
   },
   "outputs": [
    {
     "output_type": "execute_result",
     "data": {
      "text/plain": "     treatment1  treatment2  treatment3\n0     -0.052461    0.028544    0.062568\n1      0.001432    0.090935    0.004034\n2      0.030645    0.110449   -0.014406\n3      0.042346    0.039590    0.360335\n4      0.017587    0.118971    0.331485\n..          ...         ...         ...\n795    0.086275    0.105316    0.406309\n796   -0.035968    0.031619    0.032262\n797   -0.019312    0.070419    0.055174\n798    0.024296    0.096761   -0.031588\n799    0.017037    0.075721    0.271109\n\n[800 rows x 3 columns]",
      "text/html": "<div>\n<style scoped>\n    .dataframe tbody tr th:only-of-type {\n        vertical-align: middle;\n    }\n\n    .dataframe tbody tr th {\n        vertical-align: top;\n    }\n\n    .dataframe thead th {\n        text-align: right;\n    }\n</style>\n<table border=\"1\" class=\"dataframe\">\n  <thead>\n    <tr style=\"text-align: right;\">\n      <th></th>\n      <th>treatment1</th>\n      <th>treatment2</th>\n      <th>treatment3</th>\n    </tr>\n  </thead>\n  <tbody>\n    <tr>\n      <th>0</th>\n      <td>-0.052461</td>\n      <td>0.028544</td>\n      <td>0.062568</td>\n    </tr>\n    <tr>\n      <th>1</th>\n      <td>0.001432</td>\n      <td>0.090935</td>\n      <td>0.004034</td>\n    </tr>\n    <tr>\n      <th>2</th>\n      <td>0.030645</td>\n      <td>0.110449</td>\n      <td>-0.014406</td>\n    </tr>\n    <tr>\n      <th>3</th>\n      <td>0.042346</td>\n      <td>0.039590</td>\n      <td>0.360335</td>\n    </tr>\n    <tr>\n      <th>4</th>\n      <td>0.017587</td>\n      <td>0.118971</td>\n      <td>0.331485</td>\n    </tr>\n    <tr>\n      <th>...</th>\n      <td>...</td>\n      <td>...</td>\n      <td>...</td>\n    </tr>\n    <tr>\n      <th>795</th>\n      <td>0.086275</td>\n      <td>0.105316</td>\n      <td>0.406309</td>\n    </tr>\n    <tr>\n      <th>796</th>\n      <td>-0.035968</td>\n      <td>0.031619</td>\n      <td>0.032262</td>\n    </tr>\n    <tr>\n      <th>797</th>\n      <td>-0.019312</td>\n      <td>0.070419</td>\n      <td>0.055174</td>\n    </tr>\n    <tr>\n      <th>798</th>\n      <td>0.024296</td>\n      <td>0.096761</td>\n      <td>-0.031588</td>\n    </tr>\n    <tr>\n      <th>799</th>\n      <td>0.017037</td>\n      <td>0.075721</td>\n      <td>0.271109</td>\n    </tr>\n  </tbody>\n</table>\n<p>800 rows × 3 columns</p>\n</div>"
     },
     "metadata": {},
     "execution_count": 5
    }
   ],
   "source": [
    "df_train, df_test = train_test_split(df, test_size=0.2, random_state=111)\n",
    "\n",
    "uplift_model = UpliftRandomForestClassifier(control_name='control')\n",
    "\n",
    "uplift_model.fit(df_train[x_names].values,\n",
    "                 treatment=df_train['treatment_group_key'].values,\n",
    "                 y=df_train['conversion'].values)\n",
    "\n",
    "y_pred = uplift_model.predict(df_test[x_names].values)\n",
    "\n",
    "result = pd.DataFrame(y_pred, \n",
    "                      columns=uplift_model.classes_)\n",
    "\n",
    "result"
   ]
  },
  {
   "cell_type": "code",
   "execution_count": null,
   "metadata": {
    "colab": {},
    "colab_type": "code",
    "id": "-MEL8vnR8LSc"
   },
   "outputs": [],
   "source": []
  }
 ],
 "metadata": {
  "colab": {
   "authorship_tag": "ABX9TyMH2sVrHLK1BwJkmAYW51tt",
   "collapsed_sections": [],
   "name": "casualML_practice.ipynb",
   "provenance": []
  },
  "kernelspec": {
   "display_name": "Python 3",
   "language": "python",
   "name": "python3"
  },
  "language_info": {
   "codemirror_mode": {
    "name": "ipython",
    "version": 3
   },
   "file_extension": ".py",
   "mimetype": "text/x-python",
   "name": "python",
   "nbconvert_exporter": "python",
   "pygments_lexer": "ipython3",
   "version": "3.8.5-final"
  }
 },
 "nbformat": 4,
 "nbformat_minor": 4
}