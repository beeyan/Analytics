{
  "nbformat": 4,
  "nbformat_minor": 0,
  "metadata": {
    "colab": {
      "name": "causal_inference_tutorial.ipynb",
      "provenance": [],
      "collapsed_sections": [],
      "authorship_tag": "ABX9TyNvdP4KCU2/K0QdqIkMgS5i",
      "include_colab_link": true
    },
    "kernelspec": {
      "name": "python3",
      "display_name": "Python 3"
    }
  },
  "cells": [
    {
      "cell_type": "markdown",
      "metadata": {
        "id": "view-in-github",
        "colab_type": "text"
      },
      "source": [
        "<a href=\"https://colab.research.google.com/github/beeyan/Analytics/blob/master/causal_inference_tutorial.ipynb\" target=\"_parent\"><img src=\"https://colab.research.google.com/assets/colab-badge.svg\" alt=\"Open In Colab\"/></a>"
      ]
    },
    {
      "cell_type": "markdown",
      "metadata": {
        "id": "1lxRHf71L2ln",
        "colab_type": "text"
      },
      "source": [
        "### 因果推論周りの勉強のためのnotebook\n",
        "\n",
        "岩波booksのサンプルデータを用いて, 因果推論の一連の流れを学ぶ\n",
        "\n",
        "参考url: https://pira-nino.hatenablog.com/entry/causal_inference_implement"
      ]
    },
    {
      "cell_type": "code",
      "metadata": {
        "id": "wbE-9eoNLs6u",
        "colab_type": "code",
        "outputId": "23cd83a0-d9f9-470b-97d8-57104b844d05",
        "colab": {
          "base_uri": "https://localhost:8080/",
          "height": 122
        }
      },
      "source": [
        "!pip install lightgbm"
      ],
      "execution_count": 0,
      "outputs": [
        {
          "output_type": "stream",
          "text": [
            "Requirement already satisfied: lightgbm in /usr/local/lib/python3.6/dist-packages (2.2.3)\n",
            "Requirement already satisfied: scipy in /usr/local/lib/python3.6/dist-packages (from lightgbm) (1.4.1)\n",
            "Requirement already satisfied: numpy in /usr/local/lib/python3.6/dist-packages (from lightgbm) (1.18.4)\n",
            "Requirement already satisfied: scikit-learn in /usr/local/lib/python3.6/dist-packages (from lightgbm) (0.22.2.post1)\n",
            "Requirement already satisfied: joblib>=0.11 in /usr/local/lib/python3.6/dist-packages (from scikit-learn->lightgbm) (0.15.1)\n"
          ],
          "name": "stdout"
        }
      ]
    },
    {
      "cell_type": "code",
      "metadata": {
        "id": "Zcu3fL1zLiex",
        "colab_type": "code",
        "outputId": "9b98a889-a332-4b99-fed2-c74246f91c2a",
        "colab": {
          "base_uri": "https://localhost:8080/",
          "height": 88
        }
      },
      "source": [
        "import lightgbm as lgb\n",
        "import matplotlib.font_manager as fm\n",
        "import matplotlib.pyplot as plt\n",
        "import numpy as np\n",
        "import pandas as pd\n",
        "import seaborn as sns\n",
        "from sklearn.ensemble import RandomForestClassifier\n",
        "from sklearn.linear_model import LinearRegression, LogisticRegression\n",
        "from sklearn.metrics import log_loss, mean_squared_error, roc_auc_score\n",
        "from sklearn.model_selection import KFold, train_test_split\n",
        "from sklearn.metrics import roc_curve,auc\n",
        "from sklearn.neighbors import NearestNeighbors\n",
        "\n",
        "\n",
        "%matplotlib inline\n",
        "# その他設定\n",
        "pd.set_option('display.max_columns', 100)\n",
        "plt.style.use('seaborn-darkgrid')\n",
        "font = fm.FontProperties(fname='./TakaoPGothic.ttf')\n",
        "\n",
        "dataset_url = 'https://raw.githubusercontent.com/' \\\n",
        "              + 'iwanami-datascience/vol3/master/kato%26hoshino/q_data_x.csv'  \n",
        "df = pd.read_csv(dataset_url)  \n",
        "print(df.shape)"
      ],
      "execution_count": 0,
      "outputs": [
        {
          "output_type": "stream",
          "text": [
            "/usr/local/lib/python3.6/dist-packages/statsmodels/tools/_testing.py:19: FutureWarning: pandas.util.testing is deprecated. Use the functions in the public API at pandas.testing instead.\n",
            "  import pandas.util.testing as tm\n"
          ],
          "name": "stderr"
        },
        {
          "output_type": "stream",
          "text": [
            "(10000, 35)\n"
          ],
          "name": "stdout"
        }
      ]
    },
    {
      "cell_type": "code",
      "metadata": {
        "id": "Cw_BFSuiMOBx",
        "colab_type": "code",
        "outputId": "f6994ecd-cfa4-4b2f-c238-aa99edc7c8af",
        "colab": {
          "base_uri": "https://localhost:8080/",
          "height": 153
        }
      },
      "source": [
        "# 列名のチェック. 項目に対して, ダミー編数化の処理がなされている\n",
        "df.columns"
      ],
      "execution_count": 0,
      "outputs": [
        {
          "output_type": "execute_result",
          "data": {
            "text/plain": [
              "Index(['cm_dummy', 'gamedummy', 'area_kanto', 'area_keihan', 'area_tokai',\n",
              "       'area_keihanshin', 'age', 'sex', 'marry_dummy', 'job_dummy1',\n",
              "       'job_dummy2', 'job_dummy3', 'job_dummy4', 'job_dummy5', 'job_dummy6',\n",
              "       'job_dummy7', 'job_dummy8', 'inc', 'pmoney', 'fam_str_dummy1',\n",
              "       'fam_str_dummy2', 'fam_str_dummy3', 'fam_str_dummy4', 'fam_str_dummy5',\n",
              "       'child_dummy', 'T', 'F1', 'F2', 'F3', 'M1', 'M2', 'M3', 'TVwatch_day',\n",
              "       'gamesecond', 'gamecount'],\n",
              "      dtype='object')"
            ]
          },
          "metadata": {
            "tags": []
          },
          "execution_count": 6
        }
      ]
    },
    {
      "cell_type": "code",
      "metadata": {
        "id": "LyuD3OBxMSlI",
        "colab_type": "code",
        "outputId": "9ef48270-bc5d-442c-cd0a-7d12a2897592",
        "colab": {
          "base_uri": "https://localhost:8080/",
          "height": 224
        }
      },
      "source": [
        "df.head()"
      ],
      "execution_count": 0,
      "outputs": [
        {
          "output_type": "execute_result",
          "data": {
            "text/html": [
              "<div>\n",
              "<style scoped>\n",
              "    .dataframe tbody tr th:only-of-type {\n",
              "        vertical-align: middle;\n",
              "    }\n",
              "\n",
              "    .dataframe tbody tr th {\n",
              "        vertical-align: top;\n",
              "    }\n",
              "\n",
              "    .dataframe thead th {\n",
              "        text-align: right;\n",
              "    }\n",
              "</style>\n",
              "<table border=\"1\" class=\"dataframe\">\n",
              "  <thead>\n",
              "    <tr style=\"text-align: right;\">\n",
              "      <th></th>\n",
              "      <th>cm_dummy</th>\n",
              "      <th>gamedummy</th>\n",
              "      <th>area_kanto</th>\n",
              "      <th>area_keihan</th>\n",
              "      <th>area_tokai</th>\n",
              "      <th>area_keihanshin</th>\n",
              "      <th>age</th>\n",
              "      <th>sex</th>\n",
              "      <th>marry_dummy</th>\n",
              "      <th>job_dummy1</th>\n",
              "      <th>job_dummy2</th>\n",
              "      <th>job_dummy3</th>\n",
              "      <th>job_dummy4</th>\n",
              "      <th>job_dummy5</th>\n",
              "      <th>job_dummy6</th>\n",
              "      <th>job_dummy7</th>\n",
              "      <th>job_dummy8</th>\n",
              "      <th>inc</th>\n",
              "      <th>pmoney</th>\n",
              "      <th>fam_str_dummy1</th>\n",
              "      <th>fam_str_dummy2</th>\n",
              "      <th>fam_str_dummy3</th>\n",
              "      <th>fam_str_dummy4</th>\n",
              "      <th>fam_str_dummy5</th>\n",
              "      <th>child_dummy</th>\n",
              "      <th>T</th>\n",
              "      <th>F1</th>\n",
              "      <th>F2</th>\n",
              "      <th>F3</th>\n",
              "      <th>M1</th>\n",
              "      <th>M2</th>\n",
              "      <th>M3</th>\n",
              "      <th>TVwatch_day</th>\n",
              "      <th>gamesecond</th>\n",
              "      <th>gamecount</th>\n",
              "    </tr>\n",
              "  </thead>\n",
              "  <tbody>\n",
              "    <tr>\n",
              "      <th>0</th>\n",
              "      <td>0</td>\n",
              "      <td>0</td>\n",
              "      <td>0</td>\n",
              "      <td>0</td>\n",
              "      <td>0</td>\n",
              "      <td>1</td>\n",
              "      <td>44.5</td>\n",
              "      <td>1</td>\n",
              "      <td>1</td>\n",
              "      <td>1</td>\n",
              "      <td>0</td>\n",
              "      <td>0</td>\n",
              "      <td>0</td>\n",
              "      <td>0</td>\n",
              "      <td>0</td>\n",
              "      <td>0</td>\n",
              "      <td>0</td>\n",
              "      <td>249.5</td>\n",
              "      <td>0.0</td>\n",
              "      <td>0</td>\n",
              "      <td>0</td>\n",
              "      <td>1</td>\n",
              "      <td>0</td>\n",
              "      <td>0</td>\n",
              "      <td>1</td>\n",
              "      <td>0</td>\n",
              "      <td>0</td>\n",
              "      <td>0</td>\n",
              "      <td>0</td>\n",
              "      <td>0</td>\n",
              "      <td>1</td>\n",
              "      <td>0</td>\n",
              "      <td>33.427600</td>\n",
              "      <td>0</td>\n",
              "      <td>0</td>\n",
              "    </tr>\n",
              "    <tr>\n",
              "      <th>1</th>\n",
              "      <td>0</td>\n",
              "      <td>0</td>\n",
              "      <td>0</td>\n",
              "      <td>1</td>\n",
              "      <td>0</td>\n",
              "      <td>0</td>\n",
              "      <td>34.5</td>\n",
              "      <td>1</td>\n",
              "      <td>1</td>\n",
              "      <td>1</td>\n",
              "      <td>0</td>\n",
              "      <td>0</td>\n",
              "      <td>0</td>\n",
              "      <td>0</td>\n",
              "      <td>0</td>\n",
              "      <td>0</td>\n",
              "      <td>0</td>\n",
              "      <td>800.0</td>\n",
              "      <td>12.5</td>\n",
              "      <td>0</td>\n",
              "      <td>0</td>\n",
              "      <td>1</td>\n",
              "      <td>0</td>\n",
              "      <td>0</td>\n",
              "      <td>1</td>\n",
              "      <td>0</td>\n",
              "      <td>0</td>\n",
              "      <td>0</td>\n",
              "      <td>0</td>\n",
              "      <td>0</td>\n",
              "      <td>1</td>\n",
              "      <td>0</td>\n",
              "      <td>31.542862</td>\n",
              "      <td>0</td>\n",
              "      <td>0</td>\n",
              "    </tr>\n",
              "    <tr>\n",
              "      <th>2</th>\n",
              "      <td>0</td>\n",
              "      <td>0</td>\n",
              "      <td>0</td>\n",
              "      <td>1</td>\n",
              "      <td>0</td>\n",
              "      <td>0</td>\n",
              "      <td>24.5</td>\n",
              "      <td>1</td>\n",
              "      <td>0</td>\n",
              "      <td>0</td>\n",
              "      <td>0</td>\n",
              "      <td>0</td>\n",
              "      <td>0</td>\n",
              "      <td>0</td>\n",
              "      <td>0</td>\n",
              "      <td>1</td>\n",
              "      <td>0</td>\n",
              "      <td>0.0</td>\n",
              "      <td>2.0</td>\n",
              "      <td>0</td>\n",
              "      <td>0</td>\n",
              "      <td>0</td>\n",
              "      <td>1</td>\n",
              "      <td>0</td>\n",
              "      <td>0</td>\n",
              "      <td>0</td>\n",
              "      <td>0</td>\n",
              "      <td>0</td>\n",
              "      <td>0</td>\n",
              "      <td>1</td>\n",
              "      <td>0</td>\n",
              "      <td>0</td>\n",
              "      <td>37.825805</td>\n",
              "      <td>0</td>\n",
              "      <td>0</td>\n",
              "    </tr>\n",
              "    <tr>\n",
              "      <th>3</th>\n",
              "      <td>0</td>\n",
              "      <td>0</td>\n",
              "      <td>0</td>\n",
              "      <td>1</td>\n",
              "      <td>0</td>\n",
              "      <td>0</td>\n",
              "      <td>44.5</td>\n",
              "      <td>1</td>\n",
              "      <td>1</td>\n",
              "      <td>1</td>\n",
              "      <td>0</td>\n",
              "      <td>0</td>\n",
              "      <td>0</td>\n",
              "      <td>0</td>\n",
              "      <td>0</td>\n",
              "      <td>0</td>\n",
              "      <td>0</td>\n",
              "      <td>800.0</td>\n",
              "      <td>2.0</td>\n",
              "      <td>0</td>\n",
              "      <td>0</td>\n",
              "      <td>1</td>\n",
              "      <td>0</td>\n",
              "      <td>0</td>\n",
              "      <td>1</td>\n",
              "      <td>0</td>\n",
              "      <td>0</td>\n",
              "      <td>0</td>\n",
              "      <td>0</td>\n",
              "      <td>0</td>\n",
              "      <td>1</td>\n",
              "      <td>0</td>\n",
              "      <td>36.345911</td>\n",
              "      <td>0</td>\n",
              "      <td>0</td>\n",
              "    </tr>\n",
              "    <tr>\n",
              "      <th>4</th>\n",
              "      <td>0</td>\n",
              "      <td>0</td>\n",
              "      <td>0</td>\n",
              "      <td>1</td>\n",
              "      <td>0</td>\n",
              "      <td>0</td>\n",
              "      <td>34.5</td>\n",
              "      <td>1</td>\n",
              "      <td>1</td>\n",
              "      <td>1</td>\n",
              "      <td>0</td>\n",
              "      <td>0</td>\n",
              "      <td>0</td>\n",
              "      <td>0</td>\n",
              "      <td>0</td>\n",
              "      <td>0</td>\n",
              "      <td>0</td>\n",
              "      <td>749.5</td>\n",
              "      <td>4.0</td>\n",
              "      <td>0</td>\n",
              "      <td>0</td>\n",
              "      <td>1</td>\n",
              "      <td>0</td>\n",
              "      <td>0</td>\n",
              "      <td>1</td>\n",
              "      <td>0</td>\n",
              "      <td>0</td>\n",
              "      <td>0</td>\n",
              "      <td>0</td>\n",
              "      <td>1</td>\n",
              "      <td>0</td>\n",
              "      <td>0</td>\n",
              "      <td>49.344942</td>\n",
              "      <td>0</td>\n",
              "      <td>0</td>\n",
              "    </tr>\n",
              "  </tbody>\n",
              "</table>\n",
              "</div>"
            ],
            "text/plain": [
              "   cm_dummy  gamedummy  area_kanto  area_keihan  area_tokai  area_keihanshin  \\\n",
              "0         0          0           0            0           0                1   \n",
              "1         0          0           0            1           0                0   \n",
              "2         0          0           0            1           0                0   \n",
              "3         0          0           0            1           0                0   \n",
              "4         0          0           0            1           0                0   \n",
              "\n",
              "    age  sex  marry_dummy  job_dummy1  job_dummy2  job_dummy3  job_dummy4  \\\n",
              "0  44.5    1            1           1           0           0           0   \n",
              "1  34.5    1            1           1           0           0           0   \n",
              "2  24.5    1            0           0           0           0           0   \n",
              "3  44.5    1            1           1           0           0           0   \n",
              "4  34.5    1            1           1           0           0           0   \n",
              "\n",
              "   job_dummy5  job_dummy6  job_dummy7  job_dummy8    inc  pmoney  \\\n",
              "0           0           0           0           0  249.5     0.0   \n",
              "1           0           0           0           0  800.0    12.5   \n",
              "2           0           0           1           0    0.0     2.0   \n",
              "3           0           0           0           0  800.0     2.0   \n",
              "4           0           0           0           0  749.5     4.0   \n",
              "\n",
              "   fam_str_dummy1  fam_str_dummy2  fam_str_dummy3  fam_str_dummy4  \\\n",
              "0               0               0               1               0   \n",
              "1               0               0               1               0   \n",
              "2               0               0               0               1   \n",
              "3               0               0               1               0   \n",
              "4               0               0               1               0   \n",
              "\n",
              "   fam_str_dummy5  child_dummy  T  F1  F2  F3  M1  M2  M3  TVwatch_day  \\\n",
              "0               0            1  0   0   0   0   0   1   0    33.427600   \n",
              "1               0            1  0   0   0   0   0   1   0    31.542862   \n",
              "2               0            0  0   0   0   0   1   0   0    37.825805   \n",
              "3               0            1  0   0   0   0   0   1   0    36.345911   \n",
              "4               0            1  0   0   0   0   1   0   0    49.344942   \n",
              "\n",
              "   gamesecond  gamecount  \n",
              "0           0          0  \n",
              "1           0          0  \n",
              "2           0          0  \n",
              "3           0          0  \n",
              "4           0          0  "
            ]
          },
          "metadata": {
            "tags": []
          },
          "execution_count": 7
        }
      ]
    },
    {
      "cell_type": "code",
      "metadata": {
        "id": "LFDLu1D9MXzM",
        "colab_type": "code",
        "outputId": "5299ed41-4889-4b6f-9694-7b5313c31a9d",
        "colab": {
          "base_uri": "https://localhost:8080/",
          "height": 425
        }
      },
      "source": [
        "# 単純な集計を行うと, cmを見ていない人の方が, cmを見ている人よりもプレイ時間が長くなる.\n",
        "fig = plt.figure(figsize=(7, 7))\n",
        "ax = fig.add_subplot(1, 1, 1)\n",
        "ax = sns.barplot(x='cm_dummy', y='gamesecond', data=df, ax=ax)\n",
        "ax.set_xticklabels(['not watching TVCM(z=0)', 'watching TVCM(z=1)'])\n",
        "ax.set_xlabel('')\n",
        "ax.set_ylabel('playing times average [second]')\n",
        "fig.show();\n",
        "\n",
        "# matplotlibのRuntimeWarningがやかましいので消す\n",
        "import warnings\n",
        "warnings.simplefilter('ignore', RuntimeWarning)"
      ],
      "execution_count": 0,
      "outputs": [
        {
          "output_type": "display_data",
          "data": {
            "image/png": "[encoded data removed]",
            "text/plain": [
              "<Figure size 504x504 with 1 Axes>"
            ]
          },
          "metadata": {
            "tags": []
          }
        }
      ]
    },
    {
      "cell_type": "code",
      "metadata": {
        "id": "LxGVvcJhM7-e",
        "colab_type": "code",
        "colab": {}
      },
      "source": [
        "z_col = 'cm_dummy'\n",
        "x_cols = [\n",
        "          col for col in df.columns\n",
        "          if col not in ['gemecount', 'gamedummy', 'gamesecond', 'cm_dummy']\n",
        "]\n",
        "\n",
        "df_x = df[x_cols]\n",
        "df_z = df[z_col]"
      ],
      "execution_count": 0,
      "outputs": []
    },
    {
      "cell_type": "code",
      "metadata": {
        "id": "IHF0urB5Pzxs",
        "colab_type": "code",
        "outputId": "9963f82d-03d7-41bc-d596-fe947e7fe63f",
        "colab": {
          "base_uri": "https://localhost:8080/",
          "height": 102
        }
      },
      "source": [
        "# logistic regression/random forest/light gbmの実装を行う\n",
        "\n",
        "#初期化\n",
        "test_ratio = 0.2\n",
        "oof_preds_lgb = np.zeros(df.shape[0])\n",
        "oof_preds_lr = np.zeros(df.shape[0])\n",
        "oof_preds_rf = np.zeros(df.shape[0])\n",
        "\n",
        "insample_logloss_list_lgb = []\n",
        "insample_logloss_list_lr = []\n",
        "insample_loglooss_list_rf = []\n",
        "feature_importance_df = pd.DataFrame()\n",
        "\n",
        "# Kfoldで分割\n",
        "kf = KFold(n_splits=5, shuffle=True, random_state=0)\n",
        "\n",
        "for n_fold, (train_index, valid_index) in enumerate(kf.split(df_x)):\n",
        "  print('CV_{}'.format(n_fold))\n",
        "  X_train, z_train = df_x.values[train_index], df_z.values[train_index]\n",
        "  X_test, z_test = df_x.values[train_index], df_z.values[train_index]\n",
        "\n",
        "  #train => TRAIN / VALに分割する\n",
        "  num_test = int(len(X_train)*test_ratio)\n",
        "  index_all = np.random.choice(len(X_train), len(X_train), replace=False)\n",
        "  index_VAL = index_all[0:num_test]\n",
        "  index_TRAIN = index_all[num_test:len(X_train)]\n",
        "\n",
        "  X_TRAIN, z_TRAIN = X_train[index_TRAIN], z_train[index_TRAIN]\n",
        "  X_VAL, z_VAL = X_train[index_VAL], z_train[index_VAL]\n",
        "\n",
        "  lgb_train = lgb.Dataset(X_TRAIN, label=z_TRAIN, free_raw_data=False)\n",
        "  lgb_val = lgb.Dataset(X_VAL, label=z_VAL, free_raw_data=False)\n",
        "\n",
        "  # LightGBM\n",
        "  print('LightGBM is fitting.....')\n",
        "  params = {\n",
        "      'task': 'train',\n",
        "      'objective': 'binary',\n",
        "      'metric': 'binary'\n",
        "  }\n",
        "\n",
        "  model_lgb = lgb.train(\n",
        "      params,\n",
        "      lgb_train,\n",
        "      valid_sets = [lgb_train, lgb_val],\n",
        "      valid_names = ['train', 'val'],\n",
        "      num_boost_round=100000,\n",
        "      early_stopping_rounds=100,\n",
        "      verbose_eval=1000)\n",
        "  \n",
        "  # Logistic Regression\n",
        "  print('Logistic Regression is fitting.....')\n",
        "  model_lr = LogisticRegression()\n",
        "  model_lr.fit(X_train, z_train)\n",
        "\n",
        "  # Random Forest\n",
        "  print('Random Forest is fitting......')\n",
        "  model_rf = RandomForestClassifier(n_estimators=500)\n",
        "  model_rf.fit(X_train, z_train)\n",
        "\n",
        "  # モデルを用いて予測値を算出する\n",
        "  \n",
        "\n",
        "  \n",
        "\n"
      ],
      "execution_count": 0,
      "outputs": [
        {
          "output_type": "stream",
          "text": [
            "CV_0\n",
            "CV_1\n",
            "CV_2\n",
            "CV_3\n",
            "CV_4\n"
          ],
          "name": "stdout"
        }
      ]
    },
    {
      "cell_type": "code",
      "metadata": {
        "id": "11Fh9SyrQqSK",
        "colab_type": "code",
        "colab": {}
      },
      "source": [
        ""
      ],
      "execution_count": 0,
      "outputs": []
    }
  ]
}